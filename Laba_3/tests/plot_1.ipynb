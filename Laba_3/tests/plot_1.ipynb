{
 "cells": [
  {
   "cell_type": "code",
   "execution_count": null,
   "metadata": {},
   "outputs": [],
   "source": [
    "import matplotlib.pyplot as plt\n",
    "\n",
    "file_path = \"/content/bubble_sort.txt\" \n",
    "data = {\"x\": [], \"y\": []}\n",
    "with open(file_path, \"r\") as file:\n",
    "    for line in file:\n",
    "        numbers = list(map(float, line.strip().split()))\n",
    "        data[\"x\"].extend(range(1, len(numbers) + 1))  \n",
    "        data[\"y\"].extend(numbers)  \n",
    "\n",
    "plt.figure(figsize=(10, 6))\n",
    "plt.plot(data[\"x\"], data[\"y\"], marker='o', linestyle='-', color='b', linewidth=1, markersize=5)\n",
    "plt.title(\"График данных bubble_sort\", fontsize=16)\n",
    "plt.xlabel(\"Размер массива\", fontsize=14)\n",
    "plt.ylabel(\"Время работы\", fontsize=14)\n",
    "plt.grid(True, linestyle='--', alpha=0.7)\n",
    "plt.xticks(fontsize=12)\n",
    "plt.yticks(fontsize=12)\n",
    "plt.tight_layout()\n",
    "plt.show()"
   ]
  },
  {
   "cell_type": "code",
   "execution_count": null,
   "metadata": {},
   "outputs": [],
   "source": [
    "from google.colab import files\n",
    "\n",
    "uploaded = files.upload()\n"
   ]
  }
 ],
 "metadata": {
  "language_info": {
   "name": "python"
  }
 },
 "nbformat": 4,
 "nbformat_minor": 2
}
