{
 "cells": [
  {
   "cell_type": "code",
   "execution_count": null,
   "metadata": {},
   "outputs": [],
   "source": [
    "import matplotlib.pyplot as plt\n",
    "\n",
    "def read_data(file_paths):\n",
    "    data = []\n",
    "    for file_path in file_paths:\n",
    "        with open(file_path, \"r\") as file:\n",
    "            numbers = [float(x) for x in file.read().split()]\n",
    "            data.append(numbers)\n",
    "    return data\n",
    "\n",
    "def plot_graph(data, title):\n",
    "    plt.figure(figsize=(10, 6))\n",
    "    colors = ['b', 'g', 'r', 'c', 'm', 'y', 'k', 'orange'] \n",
    "    step = 10000\n",
    "    for i, numbers in enumerate(data):\n",
    "      size = len(numbers)\n",
    "      x_values = range(step, size * step + 1, step)\n",
    "      if i == 0:\n",
    "        plt.plot(x_values, numbers, marker='o', linestyle='-', color=colors[i], linewidth=1, markersize=5, label=f'Итеративная') \n",
    "      else:\n",
    "        plt.plot(x_values, numbers, marker='o', linestyle='-', color=colors[i], linewidth=1, markersize=5, label=f'Рекурсивная') \n",
    "    plt.title(title, fontsize=16)\n",
    "    plt.xlabel(\"Размер массива\", fontsize=14)\n",
    "    plt.ylabel(\"Время работы\", fontsize=14)\n",
    "    plt.grid(True, linestyle='--', alpha=0.7)\n",
    "    plt.xticks(fontsize=12)\n",
    "    plt.yticks(fontsize=12)\n",
    "    plt.legend() \n",
    "    plt.tight_layout()\n",
    "    plt.show()\n",
    "\n",
    "file_paths = [\"iterative_merge_sort.txt\", \"recursive_merge_sort.txt\"]\n",
    "\n",
    "data = read_data(file_paths)\n",
    "\n",
    "plot_graph(data, \"График данных\")\n"
   ]
  }
 ],
 "metadata": {
  "language_info": {
   "name": "python"
  }
 },
 "nbformat": 4,
 "nbformat_minor": 2
}
