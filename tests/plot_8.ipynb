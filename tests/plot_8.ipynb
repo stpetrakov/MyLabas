{
 "cells": [
  {
   "cell_type": "code",
   "execution_count": null,
   "metadata": {},
   "outputs": [],
   "source": [
    "import matplotlib.pyplot as plt\n",
    "\n",
    "def read_data(file_paths):\n",
    "    data = []\n",
    "    for file_path in file_paths:\n",
    "        with open(file_path, \"r\") as file:\n",
    "            numbers = [float(x) for x in file.read().split()]\n",
    "            data.append(numbers)\n",
    "    return data\n",
    "\n",
    "def plot_graph(data, title):\n",
    "    plt.figure(figsize=(10, 6))\n",
    "    colors = ['b', 'g', 'r', 'c', 'm', 'y', 'k', 'orange'] \n",
    "    for i, numbers in enumerate(data):\n",
    "      if i == 0:\n",
    "        plt.plot(range(1, len(numbers) + 1), numbers, marker='o', linestyle='-', color=colors[i], linewidth=1, markersize=5, label=f'MSD') \n",
    "      else:\n",
    "        plt.plot(range(1, len(numbers) + 1), numbers, marker='o', linestyle='-', color=colors[i], linewidth=1, markersize=5, label=f'LSD') \n",
    "    plt.title(title, fontsize=16)\n",
    "    plt.xlabel(\"Размер массива\", fontsize=14)\n",
    "    plt.ylabel(\"Время работы\", fontsize=14)\n",
    "    plt.grid(True, linestyle='--', alpha=0.7)\n",
    "    plt.xticks(fontsize=12)\n",
    "    plt.yticks(fontsize=12)\n",
    "    plt.legend() \n",
    "    plt.tight_layout()\n",
    "    plt.show()\n",
    "\n",
    "file_paths = [\"msd_sort.txt\", \"lsd_sort.txt\"]\n",
    "\n",
    "data = read_data(file_paths)\n",
    "\n",
    "plot_graph(data, \"График данных\")\n"
   ]
  }
 ],
 "metadata": {
  "language_info": {
   "name": "python"
  }
 },
 "nbformat": 4,
 "nbformat_minor": 2
}
