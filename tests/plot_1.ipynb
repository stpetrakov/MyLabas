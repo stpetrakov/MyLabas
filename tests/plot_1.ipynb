{
 "cells": [
  {
   "cell_type": "code",
   "execution_count": null,
   "metadata": {},
   "outputs": [],
   "source": [
    "import matplotlib.pyplot as plt\n",
    "\n",
    "def read_data(file_path1, file_path2):\n",
    "    data1 = {\"x\": [], \"y\": []}\n",
    "    data2 = {\"x\": [], \"y\": []}\n",
    "    with open(file_path1, \"r\") as file1, open(file_path2, \"r\") as file2:\n",
    "        for line in file1:\n",
    "            x, y = map(float, line.strip().split())\n",
    "            data1[\"x\"].append(x)\n",
    "            data1[\"y\"].append(y)\n",
    "        for line in file2:\n",
    "            x, y = map(float, line.strip().split())\n",
    "            data2[\"x\"].append(x)\n",
    "            data2[\"y\"].append(y)\n",
    "    return data1, data2\n",
    "\n",
    "def plot_graph(data1, data2):\n",
    "    plt.figure(figsize=(10, 6))\n",
    "    plt.plot(data1[\"x\"], data1[\"y\"], marker='o', linestyle='-', color='b', linewidth=1, markersize=5, label='Стек на динамическом массиве')\n",
    "    plt.plot(data2[\"x\"], data2[\"y\"], marker='s', linestyle='--', color='r', linewidth=1, markersize=5, label='Стек на односзязном списке')\n",
    "    plt.title(\"Графики данных\", fontsize=16)\n",
    "    plt.xlabel(\"Количество элементов\", fontsize=14)\n",
    "    plt.ylabel(\"Время\", fontsize=14)\n",
    "    plt.grid(True, linestyle='--', alpha=0.7)\n",
    "    plt.xticks(fontsize=12)\n",
    "    plt.yticks(fontsize=12)\n",
    "    plt.legend()\n",
    "    plt.tight_layout()\n",
    "    plt.show()\n",
    "\n",
    "file_path1 = \"answers/bubble_sort.txt\"\n",
    "file_path2 = \"answers/insertion_sort.txt\"\n",
    "data1, data2 = read_data(file_path1, file_path2)\n",
    "plot_graph(data1, data2)\n"
   ]
  },
  {
   "cell_type": "code",
   "execution_count": null,
   "metadata": {},
   "outputs": [],
   "source": [
    "from google.colab import files\n",
    "\n",
    "uploaded = files.upload()\n"
   ]
  }
 ],
 "metadata": {
  "language_info": {
   "name": "python"
  }
 },
 "nbformat": 4,
 "nbformat_minor": 2
}
